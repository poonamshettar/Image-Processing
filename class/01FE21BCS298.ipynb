{
  "cells": [
    {
      "cell_type": "markdown",
      "metadata": {
        "id": "lZhb1FRusabl"
      },
      "source": [
        "![cevi.png](data:image/png;base64,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)\n",
        "\n",
        "Day 4 <br>\n",
        "9/09/2023 <br>\n",
        "code by Swaroop A & Ankit Raichur <br>\n",
        "Speaker Swaroop A & Ankit Raichur\n"
      ]
    },
    {
      "cell_type": "markdown",
      "metadata": {
        "id": "RHiMTYzgsk8f"
      },
      "source": [
        "#Introduction to Libraries"
      ]
    },
    {
      "cell_type": "markdown",
      "metadata": {
        "id": "kMtTB6_usql6"
      },
      "source": [
        "## What are Libraries?\n",
        "In programming, a library (also known as a module or package) is a collection of pre-written code or functions that can be used to perform common tasks or solve specific problems. Libraries provide a way to reuse code and avoid reinventing the wheel for common programming tasks. They can save developers a significant amount of time and effort.\n",
        "\n",
        "## Why are Libraries Used?\n",
        "\n",
        "Libraries offer several advantages in software development:\n",
        "\n",
        "* Reusability: Developers can reuse existing code rather than writing it from\n",
        "scratch. This speeds up development and reduces the chance of errors.\n",
        "\n",
        "* Productivity: Libraries provide abstractions and higher-level functionality, allowing developers to work more efficiently and focus on solving higher-level problems.\n",
        "\n",
        "* Reliability: Well-established libraries have been tested and used by a broad community, making them more reliable and less prone to bugs.\n",
        "\n",
        "* Consistency: Libraries often follow best practices and coding standards, ensuring a consistent coding style and quality.\n",
        "\n",
        "* Specialization: Libraries can be highly specialized, addressing specific domains or problems, such as graphics, mathematics, data analysis, or web development.\n",
        "\n",
        "## Types of Libraries\n",
        "Libraries in programming can be broadly categorized into two main types: standard libraries and third-party libraries.\n",
        "\n",
        "**Standard Libraries:**\n",
        "\n",
        "1. `math` - Mathematical operations\n",
        "2. `datetime` - Date and time manipulation\n",
        "3. `os` - Operating system interaction\n",
        "4. `random` - Random number generation\n",
        "5. `json` - JSON data handling\n",
        "6. `csv` - CSV file processing\n",
        "7. `re` - Regular expressions\n",
        "8. `collections` - Data structures\n",
        "9. `sys` - System-specific parameters and functions\n",
        "10. `pickle` - Serialization and deserialization\n",
        "\n",
        "**Third-Party Libraries:**\n",
        "\n",
        "1. `requests` - HTTP requests\n",
        "2. `numpy` - Numerical and array operations\n",
        "3. `pandas` - Data manipulation and analysis\n",
        "4. `matplotlib` - Data visualization\n",
        "5. `seaborn` - Statistical data visualization\n",
        "6. `scikit-learn` - Machine learning tools\n",
        "7. `Django` - Web application framework\n",
        "8. `Flask` - Web microframework\n",
        "9. `Beautiful Soup` - Web scraping\n",
        "10. `SQLAlchemy` - SQL database interaction\n",
        "\n",
        "\n",
        "Libraries in python: <br>\n",
        "Link-1: https://www.geeksforgeeks.org/libraries-in-python/<br>\n",
        "Link-2: https://www.javatpoint.com/library-in-python"
      ]
    },
    {
      "cell_type": "markdown",
      "metadata": {
        "id": "t72p7Wvp8fKU"
      },
      "source": [
        "# Introduction to Numpy\n",
        "\n"
      ]
    },
    {
      "cell_type": "markdown",
      "metadata": {
        "id": "oogmQeU2tqqt"
      },
      "source": [
        "In this notebook we'll learn how to use NumPy to work with numerical data.\n",
        "\n",
        "<img src=\"https://i.imgur.com/dZ1XE9o.png\" width=400>"
      ]
    },
    {
      "cell_type": "markdown",
      "metadata": {
        "id": "gBx2fmbus7d4"
      },
      "source": [
        "##What is NumPy?<BR>\n",
        "NumPy is a Python library used for working with arrays.\n",
        "It also has functions for working in domain of linear algebra, fourier transform, and matrices. NumPy was created in 2005 by Travis Oliphant. It is an open source project and you can use it freely.\n",
        "\n",
        "**NumPy stands for Numerical Python.**\n",
        "\n",
        "##Why Use NumPy?\n",
        "In Python we have lists that serve the purpose of arrays, but they are slow to process.NumPy aims to provide an array object that is up to 50x faster than traditional Python lists.The array object in NumPy is called ndarray, it provides a lot of supporting functions that make working with ndarray very easy. Arrays are very frequently used in data science, where speed and resources are very important.\n",
        "\n",
        "Numpy reference:<br>\n",
        "Link-1: https://www.w3schools.com/python/numpy/default.asp <br>\n",
        "Link-2: https://numpy.org/doc/stable/user/whatisnumpy.html"
      ]
    },
    {
      "cell_type": "markdown",
      "metadata": {
        "id": "3j24xcmN8s1a"
      },
      "source": [
        "## Import Statements"
      ]
    },
    {
      "cell_type": "code",
      "execution_count": 1,
      "metadata": {
        "id": "b9YJCGC_8mhB"
      },
      "outputs": [],
      "source": [
        "import numpy as np\n",
        "\n",
        "import matplotlib.pyplot as plt\n",
        "from scipy import misc # contains an image of a racoon!\n",
        "from PIL import Image # for reading image files"
      ]
    },
    {
      "cell_type": "markdown",
      "metadata": {
        "id": "8vsW1z6o9RWD"
      },
      "source": [
        "## Understanding NumPy's ndarray\n",
        "\n",
        "NumPy's most amazing feature is the **powerful** ndarray.\n",
        "\n"
      ]
    },
    {
      "cell_type": "markdown",
      "metadata": {
        "id": "d5g_jUKBAILK"
      },
      "source": [
        "#### 1-Dimensional Arrays (Vectors)"
      ]
    },
    {
      "cell_type": "code",
      "execution_count": 2,
      "metadata": {
        "id": "4lLub1_j8QV-"
      },
      "outputs": [],
      "source": [
        "# Create new ndarray from scatch\n",
        "my_array = np.array([1.1, 9.2, 8.1, 4.7])"
      ]
    },
    {
      "cell_type": "code",
      "execution_count": 3,
      "metadata": {
        "colab": {
          "base_uri": "https://localhost:8080/"
        },
        "id": "SgTsXv-e_0OC",
        "outputId": "471e123c-15ce-47cf-82f2-987bcc8567fc"
      },
      "outputs": [
        {
          "data": {
            "text/plain": [
              "(4,)"
            ]
          },
          "execution_count": 3,
          "metadata": {},
          "output_type": "execute_result"
        }
      ],
      "source": [
        "# Show rows and columns\n",
        "my_array.shape"
      ]
    },
    {
      "cell_type": "code",
      "execution_count": 4,
      "metadata": {
        "colab": {
          "base_uri": "https://localhost:8080/"
        },
        "id": "6_k-n9Zy_1i5",
        "outputId": "b8c4f3cf-6102-4002-e9a9-d2bb1da26ae6"
      },
      "outputs": [
        {
          "data": {
            "text/plain": [
              "8.1"
            ]
          },
          "execution_count": 4,
          "metadata": {},
          "output_type": "execute_result"
        }
      ],
      "source": [
        "# Accessing elements by index\n",
        "my_array[2]"
      ]
    },
    {
      "cell_type": "code",
      "execution_count": 5,
      "metadata": {
        "colab": {
          "base_uri": "https://localhost:8080/"
        },
        "id": "QgH7A5aUADIW",
        "outputId": "c091c824-d616-445f-f9a7-52e5986c3252"
      },
      "outputs": [
        {
          "data": {
            "text/plain": [
              "1"
            ]
          },
          "execution_count": 5,
          "metadata": {},
          "output_type": "execute_result"
        }
      ],
      "source": [
        "# Show dimensions of an array\n",
        "my_array.ndim\n"
      ]
    },
    {
      "cell_type": "markdown",
      "metadata": {
        "id": "nZ8D4yr8ALzn"
      },
      "source": [
        "#### 2-Dimensional Arrays (Matrices)"
      ]
    },
    {
      "cell_type": "code",
      "execution_count": 6,
      "metadata": {
        "colab": {
          "base_uri": "https://localhost:8080/"
        },
        "id": "97iTilPTAGpm",
        "outputId": "9fc44766-7e07-4d9e-f108-7307032ddc31"
      },
      "outputs": [
        {
          "name": "stdout",
          "output_type": "stream",
          "text": [
            "array_2d has 2 dimensions\n",
            "Its shape is (2, 4)\n",
            "It has 2 rows and 4 columns\n",
            "[[1 2 3 9]\n",
            " [5 6 7 8]]\n"
          ]
        }
      ],
      "source": [
        "array_2d = np.array([[1, 2, 3, 9],\n",
        "                     [5, 6, 7, 8]])\n",
        "\n",
        "print(f'array_2d has {array_2d.ndim} dimensions')\n",
        "print(f'Its shape is {array_2d.shape}')\n",
        "print(f'It has {array_2d.shape[0]} rows and {array_2d.shape[1]} columns')\n",
        "print(array_2d)"
      ]
    },
    {
      "cell_type": "code",
      "execution_count": 7,
      "metadata": {
        "colab": {
          "base_uri": "https://localhost:8080/"
        },
        "id": "fps04VAPDa55",
        "outputId": "d83ccce7-56f1-462e-b67c-11af352b123b"
      },
      "outputs": [
        {
          "data": {
            "text/plain": [
              "7"
            ]
          },
          "execution_count": 7,
          "metadata": {},
          "output_type": "execute_result"
        }
      ],
      "source": [
        "# Access the 3rd value in the 2nd row\n",
        "array_2d[1,2]"
      ]
    },
    {
      "cell_type": "code",
      "execution_count": 8,
      "metadata": {
        "colab": {
          "base_uri": "https://localhost:8080/"
        },
        "id": "7vQnCosfEHbX",
        "outputId": "97698ac1-8a57-4cf0-bea3-45ba93fbfbdd"
      },
      "outputs": [
        {
          "data": {
            "text/plain": [
              "array([1, 2, 3, 9])"
            ]
          },
          "execution_count": 8,
          "metadata": {},
          "output_type": "execute_result"
        }
      ],
      "source": [
        "# Access all the values in the first row\n",
        "array_2d[0, :]"
      ]
    },
    {
      "cell_type": "markdown",
      "metadata": {
        "id": "IxEF8DdRBHn5"
      },
      "source": [
        "#### N-Dimensional Arrays (Tensors)\n",
        "\n",
        "**Challenge**:\n",
        "* How many dimensions does the array below have?\n",
        "* What is its shape (i.e., how many elements are along each axis)?\n",
        "* Try to access the value `18` in the last line of code.\n",
        "* Try to retrieve a 1 dimensional vector with the values `[97, 0, 27, 18]`\n",
        "* Try to retrieve a (3,2) matrix with the values `[[ 0,  4], [ 7,  5], [ 5, 97]]`\n",
        "\n",
        "*Hint*: You can use the `:` operator just as with Python Lists."
      ]
    },
    {
      "cell_type": "code",
      "execution_count": 9,
      "metadata": {
        "id": "2ROMzYaxAgXC"
      },
      "outputs": [],
      "source": [
        "mystery_array = np.array([[[0, 1, 2, 3],\n",
        "                           [4, 5, 6, 7]],\n",
        "\n",
        "                         [[7, 86, 6, 98],\n",
        "                          [5, 1, 0, 4]],\n",
        "\n",
        "                          [[5, 36, 32, 48],\n",
        "                           [97, 0, 27, 18]]])\n",
        "\n",
        "# Note all the square brackets!"
      ]
    },
    {
      "cell_type": "code",
      "execution_count": 10,
      "metadata": {
        "colab": {
          "base_uri": "https://localhost:8080/"
        },
        "id": "khm_c-ySBzIW",
        "outputId": "d393bca3-359e-42a9-85e4-c3da5cd0c1da"
      },
      "outputs": [
        {
          "data": {
            "text/plain": [
              "3"
            ]
          },
          "execution_count": 10,
          "metadata": {},
          "output_type": "execute_result"
        }
      ],
      "source": [
        "mystery_array.ndim"
      ]
    },
    {
      "cell_type": "code",
      "execution_count": 11,
      "metadata": {
        "colab": {
          "base_uri": "https://localhost:8080/"
        },
        "id": "PaLokoHDE6qT",
        "outputId": "f8cfb011-e119-4a8e-8ebc-bccf0699fac3"
      },
      "outputs": [
        {
          "data": {
            "text/plain": [
              "(3, 2, 4)"
            ]
          },
          "execution_count": 11,
          "metadata": {},
          "output_type": "execute_result"
        }
      ],
      "source": [
        "mystery_array.shape"
      ]
    },
    {
      "cell_type": "code",
      "execution_count": 12,
      "metadata": {
        "colab": {
          "base_uri": "https://localhost:8080/"
        },
        "id": "-73VGXt-DUNo",
        "outputId": "857420d3-4516-4b8d-ba70-d8c7e3fa69f4"
      },
      "outputs": [
        {
          "data": {
            "text/plain": [
              "18"
            ]
          },
          "execution_count": 12,
          "metadata": {},
          "output_type": "execute_result"
        }
      ],
      "source": [
        "mystery_array[2,1,3]"
      ]
    },
    {
      "cell_type": "code",
      "execution_count": 13,
      "metadata": {
        "colab": {
          "base_uri": "https://localhost:8080/"
        },
        "id": "OzmnC2VYKE_1",
        "outputId": "8afe4b6a-20f2-47f8-9851-97d5ccddd866"
      },
      "outputs": [
        {
          "data": {
            "text/plain": [
              "array([97,  0, 27, 18])"
            ]
          },
          "execution_count": 13,
          "metadata": {},
          "output_type": "execute_result"
        }
      ],
      "source": [
        "mystery_array[2,1,:]"
      ]
    },
    {
      "cell_type": "code",
      "execution_count": 14,
      "metadata": {
        "colab": {
          "base_uri": "https://localhost:8080/"
        },
        "id": "BoX_p1WIhP8_",
        "outputId": "4e46e122-f0af-4063-bbb1-410821885c3f"
      },
      "outputs": [
        {
          "data": {
            "text/plain": [
              "array([[ 5, 36, 32, 48],\n",
              "       [97,  0, 27, 18]])"
            ]
          },
          "execution_count": 14,
          "metadata": {},
          "output_type": "execute_result"
        }
      ],
      "source": [
        "mystery_array[2,:,:]\n"
      ]
    },
    {
      "cell_type": "code",
      "execution_count": 15,
      "metadata": {
        "colab": {
          "base_uri": "https://localhost:8080/"
        },
        "id": "zisMt8MS9xCj",
        "outputId": "fb82fbd4-cf1b-4983-c35a-e8a526db1829"
      },
      "outputs": [
        {
          "data": {
            "text/plain": [
              "array([[ 0,  4],\n",
              "       [ 7,  5],\n",
              "       [ 5, 97]])"
            ]
          },
          "execution_count": 15,
          "metadata": {},
          "output_type": "execute_result"
        }
      ],
      "source": [
        "mystery_array[:,:,0]"
      ]
    },
    {
      "cell_type": "markdown",
      "metadata": {
        "id": "-O2acBSNX4o8"
      },
      "source": [
        "## Operations and Linear Algebra with Vectors"
      ]
    },
    {
      "cell_type": "code",
      "execution_count": 16,
      "metadata": {
        "colab": {
          "base_uri": "https://localhost:8080/"
        },
        "id": "GbSwkEwHX9lb",
        "outputId": "c539e74d-4af6-4900-a361-d3959b9c26c1"
      },
      "outputs": [
        {
          "data": {
            "text/plain": [
              "array([ 6,  6,  5, 10])"
            ]
          },
          "execution_count": 16,
          "metadata": {},
          "output_type": "execute_result"
        }
      ],
      "source": [
        "v1 = np.array([4, 5, 2, 7])\n",
        "v2 = np.array([2, 1, 3, 3])\n",
        "v1 + v2"
      ]
    },
    {
      "cell_type": "code",
      "execution_count": 17,
      "metadata": {
        "colab": {
          "base_uri": "https://localhost:8080/"
        },
        "id": "vPa5kK-6fz1v",
        "outputId": "2881f253-caa2-4f6b-8531-bec5cd8c33fe"
      },
      "outputs": [
        {
          "data": {
            "text/plain": [
              "[4, 5, 2, 7, 2, 1, 3, 3]"
            ]
          },
          "execution_count": 17,
          "metadata": {},
          "output_type": "execute_result"
        }
      ],
      "source": [
        "# Python Lists vs ndarrays\n",
        "list1 = [4, 5, 2, 7]\n",
        "list2 = [2, 1, 3, 3]\n",
        "list1 + list2"
      ]
    },
    {
      "cell_type": "code",
      "execution_count": 18,
      "metadata": {
        "colab": {
          "base_uri": "https://localhost:8080/"
        },
        "id": "1AG-HpSuYs2o",
        "outputId": "1381cb6b-7652-45e2-d950-1dbc19ffa06a"
      },
      "outputs": [
        {
          "data": {
            "text/plain": [
              "array([ 8,  5,  6, 21])"
            ]
          },
          "execution_count": 18,
          "metadata": {},
          "output_type": "execute_result"
        }
      ],
      "source": [
        "v1 * v2"
      ]
    },
    {
      "cell_type": "code",
      "execution_count": 19,
      "metadata": {
        "id": "elRAfY18f_f7"
      },
      "outputs": [],
      "source": [
        "# list1 * list2 # error!"
      ]
    },
    {
      "cell_type": "code",
      "execution_count": 20,
      "metadata": {
        "id": "Ygih2AIOOwHq"
      },
      "outputs": [],
      "source": [
        "#Directly copy an nparray\n",
        "arr1 = v1\n",
        "arr2 = v2"
      ]
    },
    {
      "cell_type": "code",
      "execution_count": 21,
      "metadata": {
        "colab": {
          "base_uri": "https://localhost:8080/"
        },
        "id": "jySoMENyOnYT",
        "outputId": "8f25c789-16e9-45c5-c98e-2be72b554e4e"
      },
      "outputs": [
        {
          "name": "stdout",
          "output_type": "stream",
          "text": [
            "(4,)\n",
            "4\n",
            "int32\n"
          ]
        }
      ],
      "source": [
        "# Array properties\n",
        "shape = arr1.shape\n",
        "size = arr1.size\n",
        "dtype = arr1.dtype\n",
        "print(shape)\n",
        "print(size)\n",
        "print(dtype)"
      ]
    },
    {
      "cell_type": "code",
      "execution_count": 22,
      "metadata": {
        "colab": {
          "base_uri": "https://localhost:8080/"
        },
        "id": "I0jrNRRmQ7s0",
        "outputId": "775f51f0-60a8-4358-e4e2-e916857ac288"
      },
      "outputs": [
        {
          "name": "stdout",
          "output_type": "stream",
          "text": [
            "[1 2 3 4 5]\n",
            "[0 1 2 3 4]\n",
            "[0.   0.25 0.5  0.75 1.  ]\n"
          ]
        }
      ],
      "source": [
        "#different ways to create nparray\n",
        "arr1 = np.array([1, 2, 3, 4, 5])\n",
        "arr2 = np.arange(5)  # Create an array with values from 0 to 9\n",
        "arr3 = np.linspace(0, 1, 5)  # Create an array with 5 evenly spaced values between 0 and 1\n",
        "print(arr1)\n",
        "print(arr2)\n",
        "print(arr3)"
      ]
    },
    {
      "cell_type": "code",
      "execution_count": 23,
      "metadata": {
        "colab": {
          "base_uri": "https://localhost:8080/"
        },
        "id": "sQLejkfPO9h9",
        "outputId": "023b9178-459a-40f8-e8cf-4217039042d3"
      },
      "outputs": [
        {
          "name": "stdout",
          "output_type": "stream",
          "text": [
            "3\n",
            "[2 3 4]\n"
          ]
        }
      ],
      "source": [
        "# Indexing and slicing\n",
        "element = arr1[2]\n",
        "slice = arr2[2:5]\n",
        "print(element)\n",
        "print(slice)"
      ]
    },
    {
      "cell_type": "code",
      "execution_count": 24,
      "metadata": {
        "colab": {
          "base_uri": "https://localhost:8080/"
        },
        "id": "3AyS0uldQzn8",
        "outputId": "ba1bf40d-eaa8-4eae-e115-f1182986d4b8"
      },
      "outputs": [
        {
          "name": "stdout",
          "output_type": "stream",
          "text": [
            "mean:  3.0\n",
            "max:  4\n",
            "min:  0.0\n"
          ]
        }
      ],
      "source": [
        "# Statistical functions\n",
        "mean_value = np.mean(arr1)\n",
        "max_value = np.max(arr2)\n",
        "min_value = np.min(arr3)\n",
        "print(\"mean: \",mean_value)\n",
        "print(\"max: \",max_value)\n",
        "print(\"min: \",min_value)"
      ]
    },
    {
      "cell_type": "code",
      "execution_count": 25,
      "metadata": {
        "colab": {
          "base_uri": "https://localhost:8080/"
        },
        "id": "XeWTwE5hSD_o",
        "outputId": "03478a65-9c0e-4110-95a5-899cb3b8ceff"
      },
      "outputs": [
        {
          "data": {
            "text/plain": [
              "array([[0.65312288, 0.94621201, 0.96090354],\n",
              "       [0.00646398, 0.51304265, 0.19334182],\n",
              "       [0.60189591, 0.68200676, 0.55904301]])"
            ]
          },
          "execution_count": 25,
          "metadata": {},
          "output_type": "execute_result"
        }
      ],
      "source": [
        "# Random numbers\n",
        "random_array = np.random.rand(3, 3)  # Create a 3x3 array of random numbers\n",
        "random_array"
      ]
    },
    {
      "cell_type": "code",
      "execution_count": 26,
      "metadata": {
        "colab": {
          "base_uri": "https://localhost:8080/"
        },
        "id": "rUt5oj7sSBl9",
        "outputId": "7090afae-4fc2-432a-e7f6-7dfa606587ac"
      },
      "outputs": [
        {
          "data": {
            "text/plain": [
              "array([[19, 22],\n",
              "       [43, 50]])"
            ]
          },
          "execution_count": 26,
          "metadata": {},
          "output_type": "execute_result"
        }
      ],
      "source": [
        "# Matrix operations\n",
        "matrix1 = np.array([[1, 2], [3, 4]])\n",
        "matrix2 = np.array([[5, 6], [7, 8]])\n",
        "matrix_product = np.dot(matrix1, matrix2)\n",
        "matrix_product"
      ]
    },
    {
      "cell_type": "markdown",
      "metadata": {
        "id": "xTclC9QMWaL3"
      },
      "source": [
        "## NumPy Mini-Challenges"
      ]
    },
    {
      "cell_type": "markdown",
      "metadata": {
        "id": "D5jAqudtWeTN"
      },
      "source": [
        "#### **Challenge 1**: Use [`.arange()`](https://numpy.org/devdocs/reference/generated/numpy.arange.html)to createa a vector `a` with values ranging from 10 to 29. You should get this:\n",
        "\n",
        "`print(a)`\n",
        "\n",
        "`[10 11 12 13 14 15 16 17 18 19 20 21 22 23 24 25 26 27 28 29]`"
      ]
    },
    {
      "cell_type": "code",
      "execution_count": 27,
      "metadata": {
        "colab": {
          "base_uri": "https://localhost:8080/"
        },
        "id": "-OrX9FaMBchc",
        "outputId": "f4ab432e-e34b-45c9-c99e-6b02021c1d47"
      },
      "outputs": [
        {
          "name": "stdout",
          "output_type": "stream",
          "text": [
            "[10 11 12 13 14 15 16 17 18 19 20 21 22 23 24 25 26 27 28 29]\n"
          ]
        }
      ],
      "source": [
        "a=np.arange(10,30)\n",
        "print(a)"
      ]
    },
    {
      "cell_type": "markdown",
      "metadata": {
        "id": "duI_CwC5XmF_"
      },
      "source": [
        "#### **Challenge 2**: Use Python slicing techniques on `a` to:\n",
        "* Create an array containing only the last 3 values of `a`\n",
        "* Create a subset with only the 4th, 5th, and 6th values\n",
        "* Create a subset of `a` containing all the values except for the first 12 (i.e., `[22, 23, 24, 25, 26, 27, 28, 29]`)\n",
        "* Create a subset that only contains the even numbers (i.e, every second number)"
      ]
    },
    {
      "cell_type": "code",
      "execution_count": 28,
      "metadata": {
        "colab": {
          "base_uri": "https://localhost:8080/"
        },
        "id": "o8giDZCfF5mi",
        "outputId": "ea398d5d-aa18-4d76-91bc-cf803d91d160"
      },
      "outputs": [
        {
          "data": {
            "text/plain": [
              "array([17, 18, 19])"
            ]
          },
          "execution_count": 28,
          "metadata": {},
          "output_type": "execute_result"
        }
      ],
      "source": [
        "a[7:10]"
      ]
    },
    {
      "cell_type": "code",
      "execution_count": 29,
      "metadata": {
        "colab": {
          "base_uri": "https://localhost:8080/"
        },
        "id": "REyMMu5boBHr",
        "outputId": "8060c180-a9aa-4f93-ab26-436c2735de56"
      },
      "outputs": [
        {
          "data": {
            "text/plain": [
              "array([13, 14, 15])"
            ]
          },
          "execution_count": 29,
          "metadata": {},
          "output_type": "execute_result"
        }
      ],
      "source": [
        "a[3:6]"
      ]
    },
    {
      "cell_type": "code",
      "execution_count": 30,
      "metadata": {
        "colab": {
          "base_uri": "https://localhost:8080/"
        },
        "id": "NGRp80jnoBe5",
        "outputId": "a33731ed-7c37-4584-abe8-f78e6ef720f5"
      },
      "outputs": [
        {
          "data": {
            "text/plain": [
              "array([22, 23, 24, 25, 26, 27, 28, 29])"
            ]
          },
          "execution_count": 30,
          "metadata": {},
          "output_type": "execute_result"
        }
      ],
      "source": [
        "a[12:]"
      ]
    },
    {
      "cell_type": "code",
      "execution_count": 31,
      "metadata": {
        "colab": {
          "base_uri": "https://localhost:8080/"
        },
        "id": "0nZLmxneoBhz",
        "outputId": "a8bdbab3-7536-4412-d9dc-18f2c5fad393"
      },
      "outputs": [
        {
          "name": "stdout",
          "output_type": "stream",
          "text": [
            "10 12 14 16 18 20 22 24 26 28 "
          ]
        }
      ],
      "source": [
        "for i in a:\n",
        "   if(i%2==0):\n",
        "      print(i,end=\" \")"
      ]
    },
    {
      "cell_type": "markdown",
      "metadata": {
        "id": "G7UMQZjiYBjS"
      },
      "source": [
        "#### **Challenge 3**:Reverse the order of the values in `a`, so that the first element comes last:\n",
        "\n",
        "`[29, 28, 27, 26, 25, 24, 23, 22, 21, 20, 19, 18, 17, 16, 15, 14, 13,\n",
        "       12, 11, 10]`\n",
        "\n",
        "\n",
        "If you need a hint, you can check out this part of the [NumPy beginner's guide](\n",
        "https://numpy.org/devdocs/user/absolute_beginners.html#how-to-reverse-an-array)"
      ]
    },
    {
      "cell_type": "code",
      "execution_count": 32,
      "metadata": {
        "colab": {
          "base_uri": "https://localhost:8080/"
        },
        "id": "Ms6Of95TDGeC",
        "outputId": "4e9cc9e0-8491-4607-9d67-ed1156725474"
      },
      "outputs": [
        {
          "data": {
            "text/plain": [
              "array([29, 28, 27, 26, 25, 24, 23, 22, 21, 20, 19, 18, 17, 16, 15, 14, 13,\n",
              "       12, 11, 10])"
            ]
          },
          "execution_count": 32,
          "metadata": {},
          "output_type": "execute_result"
        }
      ],
      "source": [
        "a[::-1]"
      ]
    },
    {
      "cell_type": "code",
      "execution_count": 33,
      "metadata": {
        "id": "bP6D9o7ioGpx"
      },
      "outputs": [],
      "source": [
        "# write your code here"
      ]
    },
    {
      "cell_type": "markdown",
      "metadata": {
        "id": "WBJJbWjKfULr"
      },
      "source": [
        "#### **Challenge 4**: Print out all the indices of the non-zero elements in this array: [6,0,9,0,0,5,0]"
      ]
    },
    {
      "cell_type": "code",
      "execution_count": 34,
      "metadata": {
        "colab": {
          "base_uri": "https://localhost:8080/"
        },
        "id": "hEtU7IgHfTmu",
        "outputId": "0d16fe12-c505-4127-b35c-1a8dbc955bed"
      },
      "outputs": [
        {
          "name": "stdout",
          "output_type": "stream",
          "text": [
            "(array([0, 2, 5], dtype=int64),)\n"
          ]
        }
      ],
      "source": [
        "b=np.array([6,0,9,0,0,5,0])\n",
        "i=np.where(b!=0)\n",
        "print(i)"
      ]
    },
    {
      "cell_type": "markdown",
      "metadata": {
        "id": "LxorfXnOffUw"
      },
      "source": [
        "#### **Challenge 5**: Use NumPy to generate a 3x3x3 array with random numbers\n",
        "\n",
        "Hint: Use the [`.random()` function](https://numpy.org/doc/stable/reference/random/index.html?highlight=random#module-numpy.random)"
      ]
    },
    {
      "cell_type": "code",
      "execution_count": 35,
      "metadata": {
        "colab": {
          "base_uri": "https://localhost:8080/"
        },
        "id": "bCTdRgZCF34m",
        "outputId": "5776e32b-6821-4277-fa5e-f8516fc494e4"
      },
      "outputs": [
        {
          "name": "stdout",
          "output_type": "stream",
          "text": [
            "[[[0.52791836 0.20162493 0.39415241]\n",
            "  [0.03824887 0.81048416 0.068191  ]\n",
            "  [0.99803546 0.46133391 0.07212793]]\n",
            "\n",
            " [[0.47399623 0.45747117 0.21333609]\n",
            "  [0.50503839 0.44181303 0.56932323]\n",
            "  [0.50957093 0.51812607 0.80194889]]\n",
            "\n",
            " [[0.7441492  0.86861745 0.01071563]\n",
            "  [0.49552499 0.4837403  0.05737604]\n",
            "  [0.29481729 0.0116845  0.3479748 ]]]\n"
          ]
        }
      ],
      "source": [
        "a=np.random.rand(3,3,3)\n",
        "print(a)"
      ]
    },
    {
      "cell_type": "markdown",
      "metadata": {
        "id": "ps1d14z7ovv1"
      },
      "source": [
        "#### **Challenge 6**: Use [`.linspace()`](https://numpy.org/doc/stable/reference/generated/numpy.linspace.html) to create a vector `x` of size 9 with values spaced out evenly between 0 to 100 (both included)."
      ]
    },
    {
      "cell_type": "code",
      "execution_count": 36,
      "metadata": {
        "colab": {
          "base_uri": "https://localhost:8080/"
        },
        "id": "gVXuEDmXlw9W",
        "outputId": "9748a94d-3b06-44bc-a603-fe6be7270cba"
      },
      "outputs": [
        {
          "name": "stdout",
          "output_type": "stream",
          "text": [
            "[  0.   12.5  25.   37.5  50.   62.5  75.   87.5 100. ]\n"
          ]
        }
      ],
      "source": [
        "x=np.linspace(0,100,9)\n",
        "print(x)"
      ]
    },
    {
      "cell_type": "markdown",
      "metadata": {
        "id": "GCSPVde3f0kE"
      },
      "source": [
        "#### **Challenge 7**: Use [`.linspace()`](https://numpy.org/doc/stable/reference/generated/numpy.linspace.html) to create another vector `y` of size 9 with values between -3 to 3 (both included). Then plot `x` and `y` on a line chart using Matplotlib."
      ]
    },
    {
      "cell_type": "code",
      "execution_count": 37,
      "metadata": {
        "id": "qCQkZyB6oqe0"
      },
      "outputs": [],
      "source": [
        "import matplotlib.pyplot as plt"
      ]
    },
    {
      "cell_type": "code",
      "execution_count": 38,
      "metadata": {
        "colab": {
          "base_uri": "https://localhost:8080/",
          "height": 465
        },
        "id": "ENk8kBABo9Vn",
        "outputId": "62a16094-e9d8-4d2d-8515-1f8916d4f1ef"
      },
      "outputs": [
        {
          "name": "stdout",
          "output_type": "stream",
          "text": [
            "[-3.   -2.25 -1.5  -0.75  0.    0.75  1.5   2.25  3.  ]\n"
          ]
        },
        {
          "data": {
            "text/plain": [
              "[<matplotlib.lines.Line2D at 0x2af68036d60>]"
            ]
          },
          "execution_count": 38,
          "metadata": {},
          "output_type": "execute_result"
        },
        {
          "data": {
            "image/png": "[encoded data removed]",
            "text/plain": [
              "<Figure size 640x480 with 1 Axes>"
            ]
          },
          "metadata": {},
          "output_type": "display_data"
        }
      ],
      "source": [
        "y=np.linspace(-3,3,9)\n",
        "print(y)\n",
        "plt.plot(x,y)"
      ]
    },
    {
      "cell_type": "markdown",
      "metadata": {
        "id": "Wt5aIGQLlz5i"
      },
      "source": [
        "#### **Challenge 8**: Use NumPy to generate an array called `noise` with shape 128x128x3 that has random values. Then use Matplotlib's [`.imshow()`](https://matplotlib.org/3.1.1/api/_as_gen/matplotlib.pyplot.imshow.html) to display the array as an image."
      ]
    },
    {
      "cell_type": "code",
      "execution_count": 39,
      "metadata": {
        "colab": {
          "base_uri": "https://localhost:8080/",
          "height": 1000
        },
        "id": "VOo7TWRVmRoH",
        "outputId": "31888ffc-a86e-4a88-eaf5-1a22d074d994"
      },
      "outputs": [
        {
          "name": "stdout",
          "output_type": "stream",
          "text": [
            "[[[225 184 251]\n",
            "  [236  99 178]\n",
            "  [  2 130 150]\n",
            "  ...\n",
            "  [241 244  31]\n",
            "  [149 224  37]\n",
            "  [243  11  47]]\n",
            "\n",
            " [[114 167  11]\n",
            "  [ 31 222 223]\n",
            "  [115  69  48]\n",
            "  ...\n",
            "  [ 69  95 210]\n",
            "  [ 70  15  75]\n",
            "  [187  57 156]]\n",
            "\n",
            " [[ 52 222  97]\n",
            "  [196 249 125]\n",
            "  [243  23 175]\n",
            "  ...\n",
            "  [118 135 179]\n",
            "  [112 195  95]\n",
            "  [239 164  17]]\n",
            "\n",
            " ...\n",
            "\n",
            " [[252  80 143]\n",
            "  [169  45 214]\n",
            "  [158 185 156]\n",
            "  ...\n",
            "  [176  43  12]\n",
            "  [105 137  91]\n",
            "  [152  25  20]]\n",
            "\n",
            " [[ 46 243  97]\n",
            "  [101 248 138]\n",
            "  [  4 110 213]\n",
            "  ...\n",
            "  [213 241  97]\n",
            "  [ 62 112 246]\n",
            "  [236  89  58]]\n",
            "\n",
            " [[ 82  64  57]\n",
            "  [ 56  39  56]\n",
            "  [173 233  71]\n",
            "  ...\n",
            "  [253  58 126]\n",
            "  [183  75 221]\n",
            "  [ 35  99 136]]]\n"
          ]
        }
      ],
      "source": [
        "import cv2\n",
        "import numpy as np\n",
        "noise=np.random.randint(0,255,size=(128,128,3),dtype=np.uint8)\n",
        "print(noise)\n",
        "cv2.imshow(\"image\",noise)\n",
        "cv2.waitKey(0)\n",
        "cv2.destroyAllWindows()"
      ]
    }
  ],
  "metadata": {
    "colab": {
      "provenance": []
    },
    "kernelspec": {
      "display_name": "Python 3",
      "name": "python3"
    },
    "language_info": {
      "codemirror_mode": {
        "name": "ipython",
        "version": 3
      },
      "file_extension": ".py",
      "mimetype": "text/x-python",
      "name": "python",
      "nbconvert_exporter": "python",
      "pygments_lexer": "ipython3",
      "version": "3.9.17"
    }
  },
  "nbformat": 4,
  "nbformat_minor": 0
}
