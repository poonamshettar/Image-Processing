{
 "cells": [
  {
   "cell_type": "code",
   "execution_count": 6,
   "metadata": {},
   "outputs": [
    {
     "name": "stdout",
     "output_type": "stream",
     "text": [
      "poonam,a\n"
     ]
    }
   ],
   "source": [
    "class student:\n",
    "    def __init__(self,name,div):\n",
    "        self.name=name\n",
    "        self.div=div\n",
    "    def __str__(self):\n",
    "        return (f\"{self.name},{self.div}\")\n",
    "s1=student('poonam','a')\n",
    "print(s1)"
   ]
  },
  {
   "cell_type": "markdown",
   "metadata": {},
   "source": [
    "Inheritance"
   ]
  },
  {
   "cell_type": "code",
   "execution_count": 17,
   "metadata": {},
   "outputs": [
    {
     "name": "stdout",
     "output_type": "stream",
     "text": [
      "poonam,534\n"
     ]
    }
   ],
   "source": [
    "class parent:\n",
    "    def __init__(self,name,id):\n",
    "        self.name=name\n",
    "        self.id=id\n",
    "    def __str__(self):\n",
    "        return (f\"{self.name},{self.id}\")\n",
    "class child(parent):\n",
    "    def __init__(self,name,id,salary,age):\n",
    "        self.salary=salary\n",
    "        self.age=age\n",
    "        parent.__init__(self,name,id)\n",
    "a=child('poonam',534,50000,19)\n",
    "print(a)"
   ]
  },
  {
   "cell_type": "code",
   "execution_count": 31,
   "metadata": {},
   "outputs": [
    {
     "name": "stdout",
     "output_type": "stream",
     "text": [
      "poonam,19\n"
     ]
    }
   ],
   "source": [
    "class teacher:\n",
    "    def __init__(self,name,salary):\n",
    "        self.name=name\n",
    "        self.__salary=salary#private\n",
    "    def __str__(self):\n",
    "        return f\"{self.name},{self.__salary}\"\n",
    "class student(teacher):\n",
    "    def __init__(self,name,age,salary):\n",
    "        teacher.__init__(self,name,salary)\n",
    "        self.age=age\n",
    "    def __str__(self):\n",
    "        return f\"{self.name},{self.age}\"\n",
    "s1=student('poonam',19,78)\n",
    "print(s1)"
   ]
  },
  {
   "cell_type": "code",
   "execution_count": 40,
   "metadata": {},
   "outputs": [
    {
     "name": "stdout",
     "output_type": "stream",
     "text": [
      "2 5\n"
     ]
    }
   ],
   "source": [
    "class parent:\n",
    "    def __init__(self):\n",
    "        self.b=2\n",
    "        self.__c=3#private values cannot be changed outside the class\n",
    "class derived(parent):\n",
    "    def __init__(self):\n",
    "        parent.__init__(self)\n",
    "        self.d=5\n",
    "e=derived()\n",
    "# print(e.__c)->it gives error\n",
    "print(e.b,e.d)"
   ]
  },
  {
   "cell_type": "markdown",
   "metadata": {},
   "source": [
    "Polymorphism ->same function existing in many forms"
   ]
  },
  {
   "cell_type": "code",
   "execution_count": 45,
   "metadata": {},
   "outputs": [
    {
     "name": "stdout",
     "output_type": "stream",
     "text": [
      "['DOG', 'CAT']\n"
     ]
    }
   ],
   "source": [
    "class animal:\n",
    "    def speak(self):\n",
    "        raise NotImplementedError('not a subclass')\n",
    "class dog(animal):\n",
    "    def speak(self):\n",
    "        return(\"DOG\")\n",
    "class cat(animal):\n",
    "    def speak(self):\n",
    "        return('CAT')\n",
    "a=[dog(),cat()]\n",
    "print([i.speak() for i in a])"
   ]
  },
  {
   "cell_type": "code",
   "execution_count": 46,
   "metadata": {},
   "outputs": [
    {
     "name": "stdout",
     "output_type": "stream",
     "text": [
      "New Delhi is the capital of India.\n",
      "Hindi is the most widely spoken language of India.\n",
      "India is a developing country.\n",
      "Washington, D.C. is the capital of USA.\n",
      "English is the primary language of USA.\n",
      "USA is a developed country.\n"
     ]
    }
   ],
   "source": [
    "\n",
    "class India():\n",
    "    def capital(self):\n",
    "        print(\"New Delhi is the capital of India.\")\n",
    "  \n",
    "    def language(self):\n",
    "        print(\"Hindi is the most widely spoken language of India.\")\n",
    "  \n",
    "    def type(self):\n",
    "        print(\"India is a developing country.\")\n",
    "  \n",
    "class USA():\n",
    "    def capital(self):\n",
    "        print(\"Washington, D.C. is the capital of USA.\")\n",
    "  \n",
    "    def language(self):\n",
    "        print(\"English is the primary language of USA.\")\n",
    "  \n",
    "    def type(self):\n",
    "        print(\"USA is a developed country.\")\n",
    " \n",
    "def func(obj):\n",
    "    obj.capital()\n",
    "    obj.language()\n",
    "    obj.type()\n",
    "  \n",
    "obj_ind = India()\n",
    "obj_usa = USA()\n",
    "  \n",
    "func(obj_ind)\n",
    "func(obj_usa)"
   ]
  },
  {
   "cell_type": "markdown",
   "metadata": {},
   "source": [
    "complex numbers addition"
   ]
  },
  {
   "cell_type": "code",
   "execution_count": 70,
   "metadata": {},
   "outputs": [
    {
     "name": "stdout",
     "output_type": "stream",
     "text": [
      "2+4i\n"
     ]
    }
   ],
   "source": [
    "class complex:\n",
    "    def __init__(self,real,imag):\n",
    "        self.real=real\n",
    "        self.imag=imag\n",
    "    def __add__(self,other):\n",
    "         real=self.real+other.real\n",
    "         imag=self.imag+other.imag\n",
    "         return complex(real,imag)\n",
    "    def __str__(self):\n",
    "        return f\"{self.real}+{self.imag}i\"\n",
    "c1=complex(1,2)\n",
    "c2=complex(1,2)\n",
    "c=c1.__add__(c2)\n",
    "# c=c1+c2\n",
    "print(c)\n"
   ]
  }
 ],
 "metadata": {
  "kernelspec": {
   "display_name": "cevi",
   "language": "python",
   "name": "python3"
  },
  "language_info": {
   "codemirror_mode": {
    "name": "ipython",
    "version": 3
   },
   "file_extension": ".py",
   "mimetype": "text/x-python",
   "name": "python",
   "nbconvert_exporter": "python",
   "pygments_lexer": "ipython3",
   "version": "3.9.17"
  },
  "orig_nbformat": 4
 },
 "nbformat": 4,
 "nbformat_minor": 2
}
